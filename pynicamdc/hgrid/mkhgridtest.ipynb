{
 "cells": [
  {
   "cell_type": "code",
   "execution_count": 7,
   "metadata": {
    "tags": []
   },
   "outputs": [],
   "source": [
    "import numpy as mp\n",
    "import toml\n",
    "from adm import Adm\n",
    "from stdio import Stdio\n",
    "#from process import Process\n",
    "from process import prc \n",
    "from precision import Precision\n",
    "from const import Const\n",
    "\n"
   ]
  },
  {
   "cell_type": "code",
   "execution_count": 4,
   "metadata": {
    "tags": []
   },
   "outputs": [
    {
     "name": "stdout",
     "output_type": "stream",
     "text": [
      "instantiated prc\n",
      "SP: 0.0\n",
      "DP: 0.0\n",
      "SP_PREC: 32\n",
      "DP_PREC: 64\n",
      "RP: 0.0\n",
      "RP_PREC: 32\n",
      "Hello, world! from rank 3 out of 8\n",
      "hahaha000  40 8 5\n",
      "True\n",
      "hahaha001 40 8 5\n",
      "rl01-prc000008.toml 40 8 5 hoho\n",
      "rl01-prc000008.toml hoho\n",
      "*** Reading input management info from TOML file: rl01-prc000008.toml\n",
      "8 40 8 hohoho?\n",
      "0 [0, 1, 2, 3, 4] 5 5 hohoho200?\n",
      "ha 5 hohoho300?\n",
      "1 [5, 6, 7, 8, 9] 5 5 hohoho200?\n",
      "ha 5 hohoho300?\n",
      "2 [10, 11, 12, 13, 14] 5 5 hohoho200?\n",
      "ha 5 hohoho300?\n",
      "3 [15, 16, 17, 18, 19] 5 5 hohoho200?\n",
      "ha 5 hohoho300?\n",
      "4 [20, 21, 22, 23, 24] 5 5 hohoho200?\n",
      "ha 5 hohoho300?\n",
      "5 [25, 26, 27, 28, 29] 5 5 hohoho200?\n",
      "ha 5 hohoho300?\n",
      "6 [30, 31, 32, 33, 34] 5 5 hohoho200?\n",
      "ha 5 hohoho300?\n",
      "7 [35, 36, 37, 38, 39] 5 5 hohoho200?\n",
      "ha 5 hohoho300?\n",
      "Traceback (most recent call last):\n",
      "  File \"/Users/miyakawa/pywork/usework/project-pyNICAM/pyNICAM-DC/pynicamdc/hgrid/mkhgrid.py\", line 82, in <module>\n",
      "    adm.ADM_setup(std.io_l, std.io_nml, std.fname_log, intoml)\n",
      "  File \"/Users/miyakawa/pywork/usework/project-pyNICAM/pyNICAM-DC/pynicamdc/hgrid/adm.py\", line 169, in ADM_setup\n",
      "    if self.RGNMNG_vert_num[self.I_W, rgnid+1] == 3:\n",
      "       ^^^^^^^^^^^^^^^^^^^^\n",
      "instantiated prc\n",
      "SP: 0.0\n",
      "DP: 0.0\n",
      "SP_PREC: 32\n",
      "DP_PREC: 64\n",
      "RP: 0.0\n",
      "RP_PREC: 32\n",
      "Hello, world! from rank 7 out of 8\n",
      "hahaha000  40 8 5\n",
      "True\n",
      "hahaha001 40 8 5\n",
      "rl01-prc000008.toml 40 8 5 hoho\n",
      "rl01-prc000008.toml hoho\n",
      "*** Reading input management info from TOML file: rl01-prc000008.toml\n",
      "8 40 8 hohoho?\n",
      "0 [0, 1, 2, 3, 4] 5 5 hohoho200?\n",
      "ha 5 hohoho300?\n",
      "1 [5, 6, 7, 8, 9] 5 5 hohoho200?\n",
      "ha 5 hohoho300?\n",
      "2 [10, 11, 12, 13, 14] 5 5 hohoho200?\n",
      "ha 5 hohoho300?\n",
      "3 [15, 16, 17, 18, 19] 5 5 hohoho200?\n",
      "ha 5 hohoho300?\n",
      "4 [20, 21, 22, 23, 24] 5 5 hohoho200?\n",
      "ha 5 hohoho300?\n",
      "5 [25, 26, 27, 28, 29] 5 5 hohoho200?\n",
      "ha 5 hohoho300?\n",
      "6 [30, 31, 32, 33, 34] 5 5 hohoho200?\n",
      "ha 5 hohoho300?\n",
      "7 [35, 36, 37, 38, 39] 5 5 hohoho200?\n",
      "ha 5 hohoho300?\n",
      "Traceback (most recent call last):\n",
      "  File \"/Users/miyakawa/pywork/usework/project-pyNICAM/pyNICAM-DC/pynicamdc/hgrid/mkhgrid.py\", line 82, in <module>\n",
      "AttributeError: 'Adm' object has no attribute 'RGNMNG_vert_num'. Did you mean: 'RGNMNG_setup'?\n",
      "    adm.ADM_setup(std.io_l, std.io_nml, std.fname_log, intoml)\n",
      "  File \"/Users/miyakawa/pywork/usework/project-pyNICAM/pyNICAM-DC/pynicamdc/hgrid/adm.py\", line 169, in ADM_setup\n",
      "    if self.RGNMNG_vert_num[self.I_W, rgnid+1] == 3:\n",
      "       ^^^^^^^^^^^^^^^^^^^^\n",
      "AttributeError: 'Adm' object has no attribute 'RGNMNG_vert_num'. Did you mean: 'RGNMNG_setup'?\n",
      "instantiated prc\n",
      "SP: 0.0\n",
      "DP: 0.0\n",
      "SP_PREC: 32\n",
      "DP_PREC: 64\n",
      "RP: 0.0\n",
      "RP_PREC: 32\n",
      "Hello, world! from rank 2 out of 8\n",
      "hahaha000  40 8 5\n",
      "True\n",
      "hahaha001 40 8 5\n",
      "rl01-prc000008.toml 40 8 5 hoho\n",
      "rl01-prc000008.toml hoho\n",
      "*** Reading input management info from TOML file: rl01-prc000008.toml\n",
      "8 40 8 hohoho?\n",
      "0 [0, 1, 2, 3, 4] 5 5 hohoho200?\n",
      "ha 5 hohoho300?\n",
      "1 [5, 6, 7, 8, 9] 5 5 hohoho200?\n",
      "ha 5 hohoho300?\n",
      "2 [10, 11, 12, 13, 14] 5 5 hohoho200?\n",
      "ha 5 hohoho300?\n",
      "3 [15, 16, 17, 18, 19] 5 5 hohoho200?\n",
      "ha 5 hohoho300?\n",
      "4 [20, 21, 22, 23, 24] 5 5 hohoho200?\n",
      "ha 5 hohoho300?\n",
      "5 [25, 26, 27, 28, 29] 5 5 hohoho200?\n",
      "ha 5 hohoho300?\n",
      "6 [30, 31, 32, 33, 34] 5 5 hohoho200?\n",
      "ha 5 hohoho300?\n",
      "7 [35, 36, 37, 38, 39] 5 5 hohoho200?\n",
      "ha 5 hohoho300?\n",
      "Traceback (most recent call last):\n",
      "  File \"/Users/miyakawa/pywork/usework/project-pyNICAM/pyNICAM-DC/pynicamdc/hgrid/mkhgrid.py\", line 82, in <module>\n",
      "    adm.ADM_setup(std.io_l, std.io_nml, std.fname_log, intoml)\n",
      "  File \"/Users/miyakawa/pywork/usework/project-pyNICAM/pyNICAM-DC/pynicamdc/hgrid/adm.py\", line 169, in ADM_setup\n",
      "    if self.RGNMNG_vert_num[self.I_W, rgnid+1] == 3:\n",
      "       ^^^^^^^^^^^^^^^^^^^^\n",
      "AttributeError: 'Adm' object has no attribute 'RGNMNG_vert_num'. Did you mean: 'RGNMNG_setup'?\n",
      "instantiated prc\n",
      "SP: 0.0\n",
      "DP: 0.0\n",
      "SP_PREC: 32\n",
      "DP_PREC: 64\n",
      "RP: 0.0\n",
      "RP_PREC: 32\n",
      "Hello, world! from rank 1 out of 8\n",
      "hahaha000  40 8 5\n",
      "True\n",
      "hahaha001 40 8 5\n",
      "rl01-prc000008.toml 40 8 5 hoho\n",
      "rl01-prc000008.toml hoho\n",
      "*** Reading input management info from TOML file: rl01-prc000008.toml\n",
      "8 40 8 hohoho?\n",
      "0 [0, 1, 2, 3, 4] 5 5 hohoho200?\n",
      "ha 5 hohoho300?\n",
      "1 [5, 6, 7, 8, 9] 5 5 hohoho200?\n",
      "ha 5 hohoho300?\n",
      "2 [10, 11, 12, 13, 14] 5 5 hohoho200?\n",
      "ha 5 hohoho300?\n",
      "3 [15, 16, 17, 18, 19] 5 5 hohoho200?\n",
      "ha 5 hohoho300?\n",
      "4 [20, 21, 22, 23, 24] 5 5 hohoho200?\n",
      "ha 5 hohoho300?\n",
      "5 [25, 26, 27, 28, 29] 5 5 hohoho200?\n",
      "ha 5 hohoho300?\n",
      "6 [30, 31, 32, 33, 34] 5 5 hohoho200?\n",
      "ha 5 hohoho300?\n",
      "7 [35, 36, 37, 38, 39] 5 5 hohoho200?\n",
      "ha 5 hohoho300?\n",
      "Traceback (most recent call last):\n",
      "  File \"/Users/miyakawa/pywork/usework/project-pyNICAM/pyNICAM-DC/pynicamdc/hgrid/mkhgrid.py\", line 82, in <module>\n",
      "    adm.ADM_setup(std.io_l, std.io_nml, std.fname_log, intoml)\n",
      "  File \"/Users/miyakawa/pywork/usework/project-pyNICAM/pyNICAM-DC/pynicamdc/hgrid/adm.py\", line 169, in ADM_setup\n",
      "    if self.RGNMNG_vert_num[self.I_W, rgnid+1] == 3:\n",
      "       ^^^^^^^^^^^^^^^^^^^^\n",
      "AttributeError: 'Adm' object has no attribute 'RGNMNG_vert_num'. Did you mean: 'RGNMNG_setup'?\n",
      "instantiated prc\n",
      "SP: 0.0\n",
      "DP: 0.0\n",
      "SP_PREC: 32\n",
      "DP_PREC: 64\n",
      "RP: 0.0\n",
      "RP_PREC: 32\n",
      "Hello, world! from rank 4 out of 8\n",
      "hahaha000  40 8 5\n",
      "True\n",
      "hahaha001 40 8 5\n",
      "rl01-prc000008.toml 40 8 5 hoho\n",
      "rl01-prc000008.toml hoho\n",
      "*** Reading input management info from TOML file: rl01-prc000008.toml\n",
      "8 40 8 hohoho?\n",
      "0 [0, 1, 2, 3, 4] 5 5 hohoho200?\n",
      "ha 5 hohoho300?\n",
      "1 [5, 6, 7, 8, 9] 5 5 hohoho200?\n",
      "ha 5 hohoho300?\n",
      "2 [10, 11, 12, 13, 14] 5 5 hohoho200?\n",
      "ha 5 hohoho300?\n",
      "3 [15, 16, 17, 18, 19] 5 5 hohoho200?\n",
      "ha 5 hohoho300?\n",
      "4 [20, 21, 22, 23, 24] 5 5 hohoho200?\n",
      "ha 5 hohoho300?\n",
      "5 [25, 26, 27, 28, 29] 5 5 hohoho200?\n",
      "ha 5 hohoho300?\n",
      "6 [30, 31, 32, 33, 34] 5 5 hohoho200?\n",
      "ha 5 hohoho300?\n",
      "7 [35, 36, 37, 38, 39] 5 5 hohoho200?\n",
      "ha 5 hohoho300?\n",
      "Traceback (most recent call last):\n",
      "  File \"/Users/miyakawa/pywork/usework/project-pyNICAM/pyNICAM-DC/pynicamdc/hgrid/mkhgrid.py\", line 82, in <module>\n",
      "    adm.ADM_setup(std.io_l, std.io_nml, std.fname_log, intoml)\n",
      "  File \"/Users/miyakawa/pywork/usework/project-pyNICAM/pyNICAM-DC/pynicamdc/hgrid/adm.py\", line 169, in ADM_setup\n",
      "    if self.RGNMNG_vert_num[self.I_W, rgnid+1] == 3:\n",
      "       ^^^^^^^^^^^^^^^^^^^^\n",
      "AttributeError: 'Adm' object has no attribute 'RGNMNG_vert_num'. Did you mean: 'RGNMNG_setup'?\n",
      "instantiated prc\n",
      "SP: 0.0\n",
      "DP: 0.0\n",
      "SP_PREC: 32\n",
      "DP_PREC: 64\n",
      "RP: 0.0\n",
      "RP_PREC: 32\n",
      "Hello, world! from rank 0 out of 8\n",
      "hahaha000  40 8 5\n",
      "True\n",
      "hahaha001 40 8 5\n",
      "rl01-prc000008.toml 40 8 5 hoho\n",
      "rl01-prc000008.toml hoho\n",
      "*** Reading input management info from TOML file: rl01-prc000008.toml\n",
      "8 40 8 hohoho?\n",
      "0 [0, 1, 2, 3, 4] 5 5 hohoho200?\n",
      "ha 5 hohoho300?\n",
      "1 [5, 6, 7, 8, 9] 5 5 hohoho200?\n",
      "ha 5 hohoho300?\n",
      "2 [10, 11, 12, 13, 14] 5 5 hohoho200?\n",
      "ha 5 hohoho300?\n",
      "3 [15, 16, 17, 18, 19] 5 5 hohoho200?\n",
      "ha 5 hohoho300?\n",
      "4 [20, 21, 22, 23, 24] 5 5 hohoho200?\n",
      "ha 5 hohoho300?\n",
      "5 [25, 26, 27, 28, 29] 5 5 hohoho200?\n",
      "ha 5 hohoho300?\n",
      "6 [30, 31, 32, 33, 34] 5 5 hohoho200?\n",
      "ha 5 hohoho300?\n",
      "7 [35, 36, 37, 38, 39] 5 5 hohoho200?\n",
      "ha 5 hohoho300?\n",
      "instantiated prc\n",
      "SP: 0.0\n",
      "DP: 0.0\n",
      "SP_PREC: 32\n",
      "DP_PREC: 64\n",
      "RP: 0.0\n",
      "RP_PREC: 32\n",
      "Hello, world! from rank 6 out of 8\n",
      "hahaha000  40 8 5\n",
      "True\n",
      "hahaha001 40 8 5\n",
      "rl01-prc000008.toml 40 8 5 hoho\n",
      "rl01-prc000008.toml hoho\n",
      "*** Reading input management info from TOML file: rl01-prc000008.toml\n",
      "8 40 8 hohoho?\n",
      "0 [0, 1, 2, 3, 4] 5 5 hohoho200?\n",
      "ha 5 hohoho300?\n",
      "1 [5, 6, 7, 8, 9] 5 5 hohoho200?\n",
      "ha 5 hohoho300?\n",
      "2 [10, 11, 12, 13, 14] 5 5 hohoho200?\n",
      "ha 5 hohoho300?\n",
      "3 [15, 16, 17, 18, 19] 5 5 hohoho200?\n",
      "ha 5 hohoho300?\n",
      "4 [20, 21, 22, 23, 24] 5 5 hohoho200?\n",
      "ha 5 hohoho300?\n",
      "5 [25, 26, 27, 28, 29] 5 5 hohoho200?\n",
      "ha 5 hohoho300?\n",
      "6 [30, 31, 32, 33, 34] 5 5 hohoho200?\n",
      "ha 5 hohoho300?\n",
      "7 [35, 36, 37, 38, 39] 5 5 hohoho200?\n",
      "ha 5 hohoho300?\n",
      "Traceback (most recent call last):\n",
      "  File \"/Users/miyakawa/pywork/usework/project-pyNICAM/pyNICAM-DC/pynicamdc/hgrid/mkhgrid.py\", line 82, in <module>\n",
      "Traceback (most recent call last):\n",
      "  File \"/Users/miyakawa/pywork/usework/project-pyNICAM/pyNICAM-DC/pynicamdc/hgrid/mkhgrid.py\", line 82, in <module>\n",
      "    adm.ADM_setup(std.io_l, std.io_nml, std.fname_log, intoml)\n",
      "  File \"/Users/miyakawa/pywork/usework/project-pyNICAM/pyNICAM-DC/pynicamdc/hgrid/adm.py\", line 169, in ADM_setup\n",
      "    if self.RGNMNG_vert_num[self.I_W, rgnid+1] == 3:\n",
      "    adm.ADM_setup(std.io_l, std.io_nml, std.fname_log, intoml)\n",
      "  File \"/Users/miyakawa/pywork/usework/project-pyNICAM/pyNICAM-DC/pynicamdc/hgrid/adm.py\", line 169, in ADM_setup\n",
      "       ^^^^^^^^^^^^^^^^^^^^\n",
      "AttributeError: 'Adm' object has no attribute 'RGNMNG_vert_num'. Did you mean: 'RGNMNG_setup'?\n",
      "    if self.RGNMNG_vert_num[self.I_W, rgnid+1] == 3:\n",
      "       ^^^^^^^^^^^^^^^^^^^^\n",
      "AttributeError: 'Adm' object has no attribute 'RGNMNG_vert_num'. Did you mean: 'RGNMNG_setup'?\n",
      "instantiated prc\n",
      "SP: 0.0\n",
      "DP: 0.0\n",
      "SP_PREC: 32\n",
      "DP_PREC: 64\n",
      "RP: 0.0\n",
      "RP_PREC: 32\n",
      "Hello, world! from rank 5 out of 8\n",
      "hahaha000  40 8 5\n",
      "True\n",
      "hahaha001 40 8 5\n",
      "rl01-prc000008.toml 40 8 5 hoho\n",
      "rl01-prc000008.toml hoho\n",
      "*** Reading input management info from TOML file: rl01-prc000008.toml\n",
      "8 40 8 hohoho?\n",
      "0 [0, 1, 2, 3, 4] 5 5 hohoho200?\n",
      "ha 5 hohoho300?\n",
      "1 [5, 6, 7, 8, 9] 5 5 hohoho200?\n",
      "ha 5 hohoho300?\n",
      "2 [10, 11, 12, 13, 14] 5 5 hohoho200?\n",
      "ha 5 hohoho300?\n",
      "3 [15, 16, 17, 18, 19] 5 5 hohoho200?\n",
      "ha 5 hohoho300?\n",
      "4 [20, 21, 22, 23, 24] 5 5 hohoho200?\n",
      "ha 5 hohoho300?\n",
      "5 [25, 26, 27, 28, 29] 5 5 hohoho200?\n",
      "ha 5 hohoho300?\n",
      "6 [30, 31, 32, 33, 34] 5 5 hohoho200?\n",
      "ha 5 hohoho300?\n",
      "7 [35, 36, 37, 38, 39] 5 5 hohoho200?\n",
      "ha 5 hohoho300?\n",
      "Traceback (most recent call last):\n",
      "  File \"/Users/miyakawa/pywork/usework/project-pyNICAM/pyNICAM-DC/pynicamdc/hgrid/mkhgrid.py\", line 82, in <module>\n",
      "    adm.ADM_setup(std.io_l, std.io_nml, std.fname_log, intoml)\n",
      "  File \"/Users/miyakawa/pywork/usework/project-pyNICAM/pyNICAM-DC/pynicamdc/hgrid/adm.py\", line 169, in ADM_setup\n",
      "    if self.RGNMNG_vert_num[self.I_W, rgnid+1] == 3:\n",
      "       ^^^^^^^^^^^^^^^^^^^^\n",
      "AttributeError: 'Adm' object has no attribute 'RGNMNG_vert_num'. Did you mean: 'RGNMNG_setup'?\n"
     ]
    }
   ],
   "source": [
    "!mpiexec -n 8 python mkhgrid.py"
   ]
  },
  {
   "cell_type": "code",
   "execution_count": 5,
   "metadata": {
    "tags": []
   },
   "outputs": [
    {
     "name": "stdout",
     "output_type": "stream",
     "text": [
      "0\n",
      "1\n",
      "2\n",
      "3\n",
      "4\n"
     ]
    }
   ],
   "source": [
    "for r in range (0,5):\n",
    "    print(r)"
   ]
  },
  {
   "cell_type": "code",
   "execution_count": 6,
   "metadata": {
    "tags": []
   },
   "outputs": [
    {
     "name": "stdout",
     "output_type": "stream",
     "text": [
      "0\n",
      "1\n",
      "2\n",
      "3\n",
      "4\n"
     ]
    }
   ],
   "source": [
    "for r in range (5):\n",
    "    print (r)"
   ]
  },
  {
   "cell_type": "code",
   "execution_count": 34,
   "metadata": {},
   "outputs": [],
   "source": [
    "rmax = -1\n",
    "for n in range (0):\n",
    "    print(\"n= \", n, \"rmax= \", rmax)\n",
    "    \n",
    "    for r in range (rmax): \n",
    "        print (\"r= \", r)\n",
    "\n",
    "    rmax += 1\n",
    "    print(rmax, n)\n",
    "    \n",
    "#print (r)"
   ]
  },
  {
   "cell_type": "code",
   "execution_count": null,
   "metadata": {
    "tags": []
   },
   "outputs": [],
   "source": [
    "for v in range(6, 1, -1):\n",
    "    print(v)\n",
    "    \n"
   ]
  },
  {
   "cell_type": "code",
   "execution_count": 15,
   "metadata": {
    "tags": []
   },
   "outputs": [
    {
     "name": "stdout",
     "output_type": "stream",
     "text": [
      "0 0\n",
      "4\n",
      "1 0\n",
      "1\n",
      "2 0\n",
      "2\n",
      "3 0\n",
      "3\n",
      "4 1\n",
      "4\n",
      "5 1\n",
      "1\n",
      "6 1\n",
      "2\n",
      "7 1\n",
      "3\n",
      "8 2\n",
      "4\n",
      "9 2\n",
      "1\n",
      "10 2\n",
      "2\n",
      "11 2\n",
      "3\n",
      "12 3\n",
      "4\n",
      "13 3\n",
      "1\n",
      "14 3\n",
      "2\n",
      "15 3\n",
      "3\n",
      "16 4\n",
      "4\n",
      "17 4\n",
      "1\n",
      "18 4\n",
      "2\n",
      "19 4\n",
      "3\n",
      "20 5\n",
      "4\n",
      "21 5\n",
      "1\n",
      "22 5\n",
      "2\n",
      "23 5\n",
      "3\n",
      "24 6\n",
      "4\n",
      "25 6\n",
      "1\n",
      "26 6\n",
      "2\n",
      "27 6\n",
      "3\n",
      "28 7\n",
      "4\n",
      "29 7\n",
      "1\n",
      "30 7\n",
      "2\n",
      "31 7\n",
      "3\n",
      "32 8\n",
      "4\n",
      "33 8\n",
      "1\n",
      "34 8\n",
      "2\n",
      "35 8\n",
      "3\n",
      "36 9\n",
      "4\n",
      "37 9\n",
      "1\n",
      "38 9\n",
      "2\n",
      "39 9\n",
      "3\n"
     ]
    }
   ],
   "source": [
    "rgn_all = 4\n",
    "for rgnid in range(40):\n",
    "    #print(rgnid)\n",
    "    dmd = (rgnid)//rgn_all \n",
    "    print(rgnid, dmd)\n",
    "    \n",
    "    rgnid_dmd = (rgnid - 1) % rgn_all + 1\n",
    "    \n",
    "    print(rgnid_dmd)\n",
    "\n"
   ]
  },
  {
   "cell_type": "code",
   "execution_count": 13,
   "metadata": {
    "tags": []
   },
   "outputs": [
    {
     "name": "stdout",
     "output_type": "stream",
     "text": [
      "0\n",
      "1\n"
     ]
    }
   ],
   "source": [
    "for rl in range(2):\n",
    "    print(rl)\n",
    "    "
   ]
  },
  {
   "cell_type": "code",
   "execution_count": 23,
   "metadata": {
    "tags": []
   },
   "outputs": [
    {
     "name": "stdout",
     "output_type": "stream",
     "text": [
      "1\n"
     ]
    }
   ],
   "source": [
    "print(5 % 4)"
   ]
  },
  {
   "cell_type": "code",
   "execution_count": 26,
   "metadata": {
    "tags": []
   },
   "outputs": [
    {
     "name": "stdout",
     "output_type": "stream",
     "text": [
      "1\n",
      "2\n",
      "3\n",
      "4\n",
      "5\n",
      "6\n",
      "7\n",
      "8\n",
      "9\n"
     ]
    }
   ],
   "source": [
    "for i in range(1,10):\n",
    "    print(i)"
   ]
  },
  {
   "cell_type": "code",
   "execution_count": 27,
   "metadata": {
    "tags": []
   },
   "outputs": [
    {
     "ename": "NameError",
     "evalue": "name 'np' is not defined",
     "output_type": "error",
     "traceback": [
      "\u001b[0;31m---------------------------------------------------------------------------\u001b[0m",
      "\u001b[0;31mNameError\u001b[0m                                 Traceback (most recent call last)",
      "Cell \u001b[0;32mIn[27], line 1\u001b[0m\n\u001b[0;32m----> 1\u001b[0m Fsum \u001b[38;5;241m=\u001b[39m np\u001b[38;5;241m.\u001b[39msum(F[:, \u001b[38;5;241m1\u001b[39m:\u001b[38;5;241m7\u001b[39m, i, j], axis\u001b[38;5;241m=\u001b[39m\u001b[38;5;241m1\u001b[39m)\n",
      "\u001b[0;31mNameError\u001b[0m: name 'np' is not defined"
     ]
    }
   ],
   "source": [
    "Fsum = np.sum(F[:, 1:7, i, j], axis=1)"
   ]
  },
  {
   "cell_type": "code",
   "execution_count": 28,
   "metadata": {
    "tags": []
   },
   "outputs": [
    {
     "ename": "NameError",
     "evalue": "name 'np' is not defined",
     "output_type": "error",
     "traceback": [
      "\u001b[0;31m---------------------------------------------------------------------------\u001b[0m",
      "\u001b[0;31mNameError\u001b[0m                                 Traceback (most recent call last)",
      "Cell \u001b[0;32mIn[28], line 1\u001b[0m\n\u001b[0;32m----> 1\u001b[0m F\u001b[38;5;241m=\u001b[39mnp\u001b[38;5;241m.\u001b[39marray[\u001b[38;5;241m1\u001b[39m,\u001b[38;5;241m2\u001b[39m,\u001b[38;5;241m3\u001b[39m,\u001b[38;5;241m4\u001b[39m,\u001b[38;5;241m5\u001b[39m,\u001b[38;5;241m6\u001b[39m,\u001b[38;5;241m7\u001b[39m]\n",
      "\u001b[0;31mNameError\u001b[0m: name 'np' is not defined"
     ]
    }
   ],
   "source": [
    "F=np.array[1,2,3,4,5,6,7]\n"
   ]
  },
  {
   "cell_type": "code",
   "execution_count": 29,
   "metadata": {
    "tags": []
   },
   "outputs": [],
   "source": [
    "import numpy as np"
   ]
  },
  {
   "cell_type": "code",
   "execution_count": 32,
   "metadata": {
    "tags": []
   },
   "outputs": [],
   "source": [
    "F = np.empty(7)"
   ]
  },
  {
   "cell_type": "code",
   "execution_count": 38,
   "metadata": {
    "tags": []
   },
   "outputs": [],
   "source": [
    "F[1:5]=5,6,7,8"
   ]
  },
  {
   "cell_type": "code",
   "execution_count": 39,
   "metadata": {
    "tags": []
   },
   "outputs": [
    {
     "data": {
      "text/plain": [
       "8.0"
      ]
     },
     "execution_count": 39,
     "metadata": {},
     "output_type": "execute_result"
    }
   ],
   "source": [
    "F[4]"
   ]
  },
  {
   "cell_type": "code",
   "execution_count": 40,
   "metadata": {
    "tags": []
   },
   "outputs": [
    {
     "data": {
      "text/plain": [
       "0.0"
      ]
     },
     "execution_count": 40,
     "metadata": {},
     "output_type": "execute_result"
    }
   ],
   "source": [
    "F[0]"
   ]
  },
  {
   "cell_type": "code",
   "execution_count": 41,
   "metadata": {
    "tags": []
   },
   "outputs": [
    {
     "data": {
      "text/plain": [
       "0.0"
      ]
     },
     "execution_count": 41,
     "metadata": {},
     "output_type": "execute_result"
    }
   ],
   "source": [
    "F[5]"
   ]
  },
  {
   "cell_type": "code",
   "execution_count": 42,
   "metadata": {
    "tags": []
   },
   "outputs": [
    {
     "data": {
      "text/plain": [
       "5.0"
      ]
     },
     "execution_count": 42,
     "metadata": {},
     "output_type": "execute_result"
    }
   ],
   "source": [
    "F[1]"
   ]
  },
  {
   "cell_type": "code",
   "execution_count": 43,
   "metadata": {
    "tags": []
   },
   "outputs": [
    {
     "data": {
      "text/plain": [
       "0.0"
      ]
     },
     "execution_count": 43,
     "metadata": {},
     "output_type": "execute_result"
    }
   ],
   "source": [
    "F[5]"
   ]
  },
  {
   "cell_type": "code",
   "execution_count": 44,
   "metadata": {
    "tags": []
   },
   "outputs": [
    {
     "data": {
      "text/plain": [
       "array([5., 6., 7., 8.])"
      ]
     },
     "execution_count": 44,
     "metadata": {},
     "output_type": "execute_result"
    }
   ],
   "source": [
    "F[1:5]"
   ]
  },
  {
   "cell_type": "code",
   "execution_count": 45,
   "metadata": {
    "tags": []
   },
   "outputs": [],
   "source": [
    "Fsum = np.sum(F[1:3])"
   ]
  },
  {
   "cell_type": "code",
   "execution_count": 46,
   "metadata": {
    "tags": []
   },
   "outputs": [
    {
     "data": {
      "text/plain": [
       "11.0"
      ]
     },
     "execution_count": 46,
     "metadata": {},
     "output_type": "execute_result"
    }
   ],
   "source": [
    "Fsum"
   ]
  },
  {
   "cell_type": "code",
   "execution_count": 48,
   "metadata": {
    "tags": []
   },
   "outputs": [
    {
     "data": {
      "text/plain": [
       "1.267775099647031"
      ]
     },
     "execution_count": 48,
     "metadata": {},
     "output_type": "execute_result"
    }
   ],
   "source": [
    "0.7236067977499788**2. + 0.29943247103408493**2. + 0.8090169943749476**2.\n"
   ]
  },
  {
   "cell_type": "code",
   "execution_count": 49,
   "metadata": {
    "tags": []
   },
   "outputs": [
    {
     "data": {
      "text/plain": [
       "1.0"
      ]
     },
     "execution_count": 49,
     "metadata": {},
     "output_type": "execute_result"
    }
   ],
   "source": [
    "0.9064072282942213**2. + 0.020332370721990733**2. + 0.4219153128257032**2."
   ]
  },
  {
   "cell_type": "code",
   "execution_count": 50,
   "metadata": {
    "tags": []
   },
   "outputs": [
    {
     "data": {
      "text/plain": [
       "1.187729257164553"
      ]
     },
     "execution_count": 50,
     "metadata": {},
     "output_type": "execute_result"
    }
   ],
   "source": [
    "0.6522235172964586**2. + 0.11188847058395836**2. + 0.8659184204071259**2."
   ]
  },
  {
   "cell_type": "code",
   "execution_count": null,
   "metadata": {},
   "outputs": [],
   "source": []
  }
 ],
 "metadata": {
  "kernelspec": {
   "display_name": "Python 3 (ipykernel)",
   "language": "python",
   "name": "python3"
  },
  "language_info": {
   "codemirror_mode": {
    "name": "ipython",
    "version": 3
   },
   "file_extension": ".py",
   "mimetype": "text/x-python",
   "name": "python",
   "nbconvert_exporter": "python",
   "pygments_lexer": "ipython3",
   "version": "3.11.4"
  }
 },
 "nbformat": 4,
 "nbformat_minor": 4
}
