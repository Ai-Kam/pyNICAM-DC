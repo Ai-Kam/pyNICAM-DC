{
 "cells": [
  {
   "cell_type": "code",
   "execution_count": 4,
   "metadata": {
    "tags": []
   },
   "outputs": [
    {
     "name": "stdout",
     "output_type": "stream",
     "text": [
      "instantiated proc\n",
      "instantiated adm\n",
      "RP: 0.0\n",
      "RP_PREC: 32\n"
     ]
    }
   ],
   "source": [
    "import numpy as mp\n",
    "import toml\n",
    "from mod_adm import Adm\n",
    "from mod_stdio import Stdio\n",
    "#from process import Process\n",
    "from mod_process import prc \n",
    "from mod_precision import Precision\n",
    "from mod_const import Const\n",
    "\n"
   ]
  },
  {
   "cell_type": "code",
   "execution_count": 5,
   "metadata": {
    "tags": []
   },
   "outputs": [
    {
     "name": "stdout",
     "output_type": "stream",
     "text": [
      "instantiated proc\n",
      "instantiated proc\n",
      "instantiated proc\n",
      "instantiated proc\n",
      "instantiated proc\n",
      "instantiated proc\n",
      "instantiated proc\n",
      "instantiated adm\n",
      "instantiated adm\n",
      "instantiated proc\n",
      "instantiated adm\n",
      "instantiated adm\n",
      "RP: 0.0\n",
      "RP_PREC: 32\n",
      "instantiated adm\n",
      "instantiated adm\n",
      "RP: 0.0\n",
      "RP_PREC: 32\n",
      "instantiated adm\n",
      "RP: 0.0\n",
      "RP_PREC: 32\n",
      "instantiated adm\n",
      "RP: 0.0\n",
      "RP_PREC: 32\n",
      "RP: 0.0\n",
      "RP_PREC: 32\n",
      "RP: 0.0\n",
      "RP_PREC: 32\n",
      "RP: 0.0\n",
      "RP_PREC: 32\n",
      "RP: 0.0\n",
      "RP_PREC: 32\n",
      "Hello, world! from rank 1 out of 8\n",
      "Hello, world! from rank 6 out of 8\n",
      "Hello, world! from rank 7 out of 8\n",
      "Hello, world! from rank 2 out of 8\n",
      "io_setup done\n",
      "io_setup done\n",
      "io_log_setup done\n",
      "io_setup done\n",
      "Hello, world! from rank 4 out of 8\n",
      "Hello, world! from rank 3 out of 8\n",
      "Hello, world! from rank 5 out of 8\n",
      "io_setup done\n",
      "io_setup done\n",
      "io_setup done\n",
      "io_setup done\n",
      "Hello, world! from rank 0 out of 8\n",
      "io_setup done\n",
      "io_log_setup done\n",
      "io_log_setup done\n",
      "io_log_setup done\n",
      "io_log_setup done\n",
      "io_log_setup done\n",
      "io_log_setup done\n",
      "io_log_setup done\n",
      "CONST_setup done\n",
      "CONST_setup done\n",
      "CONST_setup done\n",
      "CONST_setup done\n",
      "CONST_setup done\n",
      "CONST_setup done\n",
      "CONST_setup done\n",
      "CONST_setup done\n",
      "ADM_setup done\n",
      "hio and fio skip\n",
      "COMM_setup start\n",
      "ADM_setup done\n",
      "hio and fio skip\n",
      "COMM_setup start\n",
      "ADM_setup done\n",
      "hio and fio skip\n",
      "COMM_setup start\n",
      "ADM_setup done\n",
      "hio and fio skip\n",
      "COMM_setup start\n",
      "ADM_setup done\n",
      "hio and fio skip\n",
      "COMM_setup start\n",
      "COMM_list_generate\n",
      "ADM_setup done\n",
      "hio and fio skip\n",
      "COMM_setup start\n",
      "COMM_list_generate\n",
      "ADM_setup done\n",
      "hio and fio skip\n",
      "COMM_setup start\n",
      "COMM_setup (not) done\n",
      "peacefully done\n",
      "ADM_setup done\n",
      "hio and fio skip\n",
      "COMM_setup start\n",
      "COMM_list_generate\n",
      "COMM_list_generate\n",
      "COMM_list_generate\n",
      "COMM_setup (not) done\n",
      "peacefully done\n",
      "COMM_list_generate\n",
      "COMM_list_generate\n",
      "COMM_list_generate\n",
      "COMM_setup (not) done\n",
      "peacefully done\n",
      "COMM_setup (not) done\n",
      "peacefully done\n",
      "COMM_setup (not) done\n",
      "peacefully done\n",
      "COMM_setup (not) done\n",
      "peacefully done\n",
      "COMM_setup (not) done\n",
      "peacefully done\n",
      "COMM_setup (not) done\n",
      "peacefully done\n"
     ]
    }
   ],
   "source": [
    "!mpiexec -n 8 python mkhgrid.py"
   ]
  },
  {
   "cell_type": "code",
   "execution_count": 6,
   "metadata": {
    "tags": []
   },
   "outputs": [
    {
     "name": "stdout",
     "output_type": "stream",
     "text": [
      "0\n",
      "1\n",
      "2\n",
      "3\n",
      "4\n"
     ]
    }
   ],
   "source": [
    "for r in range (0,5):\n",
    "    print(r)"
   ]
  },
  {
   "cell_type": "code",
   "execution_count": 7,
   "metadata": {
    "tags": []
   },
   "outputs": [
    {
     "name": "stdout",
     "output_type": "stream",
     "text": [
      "0\n",
      "1\n",
      "2\n",
      "3\n",
      "4\n"
     ]
    }
   ],
   "source": [
    "for r in range (5):\n",
    "    print (r)"
   ]
  },
  {
   "cell_type": "code",
   "execution_count": null,
   "metadata": {},
   "outputs": [],
   "source": []
  }
 ],
 "metadata": {
  "kernelspec": {
   "display_name": "mini3",
   "language": "python",
   "name": "python3"
  },
  "language_info": {
   "codemirror_mode": {
    "name": "ipython",
    "version": 3
   },
   "file_extension": ".py",
   "mimetype": "text/x-python",
   "name": "python",
   "nbconvert_exporter": "python",
   "pygments_lexer": "ipython3",
   "version": "3.11.4"
  }
 },
 "nbformat": 4,
 "nbformat_minor": 4
}
