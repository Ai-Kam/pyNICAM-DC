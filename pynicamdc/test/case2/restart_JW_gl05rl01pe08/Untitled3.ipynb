{
 "cells": [
  {
   "cell_type": "code",
   "execution_count": 1,
   "id": "4881f478-ac66-4de1-bd29-274016fa3bf7",
   "metadata": {},
   "outputs": [
    {
     "name": "stdout",
     "output_type": "stream",
     "text": [
      "Available Variables: ['pre', 'tem', 'vx', 'vy', 'vz', 'w', 'qv']\n",
      "Visualizing: pre\n",
      "Original shape: (324, 42, 5)\n",
      "Unexpected shape. Please verify the source data.\n"
     ]
    },
    {
     "ename": "IndexError",
     "evalue": "too many indices for array: array is 3-dimensional, but 4 were indexed",
     "output_type": "error",
     "traceback": [
      "\u001b[31m---------------------------------------------------------------------------\u001b[39m",
      "\u001b[31mIndexError\u001b[39m                                Traceback (most recent call last)",
      "\u001b[36mCell\u001b[39m\u001b[36m \u001b[39m\u001b[32mIn[1]\u001b[39m\u001b[32m, line 43\u001b[39m\n\u001b[32m     40\u001b[39m region_idx = \u001b[32m0\u001b[39m  \u001b[38;5;66;03m# Adjust for different regions (0 to 4)\u001b[39;00m\n\u001b[32m     42\u001b[39m \u001b[38;5;66;03m# Extract the slice to visualize\u001b[39;00m\n\u001b[32m---> \u001b[39m\u001b[32m43\u001b[39m visualized_data = \u001b[43mvariable_data\u001b[49m\u001b[43m[\u001b[49m\u001b[43m:\u001b[49m\u001b[43m,\u001b[49m\u001b[43m \u001b[49m\u001b[43m:\u001b[49m\u001b[43m,\u001b[49m\u001b[43m \u001b[49m\u001b[43mlayer_idx\u001b[49m\u001b[43m,\u001b[49m\u001b[43m \u001b[49m\u001b[43mregion_idx\u001b[49m\u001b[43m]\u001b[49m\n\u001b[32m     45\u001b[39m \u001b[38;5;66;03m# Plot the data\u001b[39;00m\n\u001b[32m     46\u001b[39m plt.figure(figsize=(\u001b[32m8\u001b[39m, \u001b[32m6\u001b[39m))\n",
      "\u001b[31mIndexError\u001b[39m: too many indices for array: array is 3-dimensional, but 4 were indexed"
     ]
    }
   ],
   "source": [
    "import json\n",
    "import numpy as np\n",
    "import matplotlib.pyplot as plt\n",
    "\n",
    "# File path (update if needed)\n",
    "json_file = \"restart_all_GL05RL01z40.pe000000_reversed.json\"\n",
    "\n",
    "# Load JSON data\n",
    "with open(json_file, \"r\") as f:\n",
    "    data = json.load(f)\n",
    "\n",
    "# Get available variables\n",
    "variables = list(data[\"Variables\"].keys())\n",
    "print(\"Available Variables:\", variables)\n",
    "\n",
    "# Select a variable to visualize\n",
    "selected_variable = variables[0]  # Change this to another variable if needed\n",
    "print(f\"Visualizing: {selected_variable}\")\n",
    "\n",
    "# Extract data for the selected variable\n",
    "variable_data = np.array(data[\"Variables\"][selected_variable][\"Data\"])\n",
    "\n",
    "# Print the original shape for verification\n",
    "print(f\"Original shape: {variable_data.shape}\")\n",
    "\n",
    "# If the original shape is (5, 42, 324), we reshape it properly\n",
    "if variable_data.shape == (5, 42, 324):\n",
    "    print(\"Detected original shape (5, 42, 324). Reordering dimensions.\")\n",
    "    num_regions, num_layers, ij_max = variable_data.shape\n",
    "    imax, jmax = 18, 18  # Expected grid size\n",
    "\n",
    "    # Reshape (5, 42, 324) → (5, 42, 18, 18) → Transpose to (18, 18, 42, 5)\n",
    "    variable_data = variable_data.reshape((num_regions, num_layers, imax, jmax)).transpose(2, 3, 1, 0)\n",
    "    print(f\"New shape after transformation: {variable_data.shape}\")  # Should be (18, 18, 42, 5)\n",
    "else:\n",
    "    print(\"Unexpected shape. Please verify the source data.\")\n",
    "\n",
    "# Choose a layer and region to visualize\n",
    "layer_idx = 0  # Adjust this for different altitude levels (0 to 41)\n",
    "region_idx = 0  # Adjust for different regions (0 to 4)\n",
    "\n",
    "# Extract the slice to visualize\n",
    "visualized_data = variable_data[:, :, layer_idx, region_idx]\n",
    "\n",
    "# Plot the data\n",
    "plt.figure(figsize=(8, 6))\n",
    "plt.imshow(visualized_data, cmap=\"coolwarm\", origin=\"lower\")\n",
    "plt.colorbar(label=data[\"Variables\"][selected_variable][\"Unit\"])\n",
    "plt.title(f\"{selected_variable} at Layer {layer_idx}, Region {region_idx}\")\n",
    "plt.xlabel(\"j (Longitude Grid Index)\")\n",
    "plt.ylabel(\"i (Latitude Grid Index)\")\n",
    "plt.xticks(range(jmax))\n",
    "plt.yticks(range(imax))\n",
    "plt.show()\n",
    "\n"
   ]
  },
  {
   "cell_type": "code",
   "execution_count": null,
   "id": "ce8b8d3d-6f5e-47d1-9c9e-c208014b3fa0",
   "metadata": {},
   "outputs": [],
   "source": []
  }
 ],
 "metadata": {
  "kernelspec": {
   "display_name": "Python (jax_mpi)",
   "language": "python",
   "name": "jax_mpi"
  },
  "language_info": {
   "codemirror_mode": {
    "name": "ipython",
    "version": 3
   },
   "file_extension": ".py",
   "mimetype": "text/x-python",
   "name": "python",
   "nbconvert_exporter": "python",
   "pygments_lexer": "ipython3",
   "version": "3.11.11"
  }
 },
 "nbformat": 4,
 "nbformat_minor": 5
}
