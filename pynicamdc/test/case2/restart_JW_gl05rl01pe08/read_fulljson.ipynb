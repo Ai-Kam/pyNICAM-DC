{
 "cells": [
  {
   "cell_type": "code",
   "execution_count": 1,
   "id": "d202529b-96ec-4d84-a337-7893f2bc9f92",
   "metadata": {},
   "outputs": [
    {
     "name": "stdout",
     "output_type": "stream",
     "text": [
      "📌 General Metadata:\n",
      "Header: INITIAL/RESTART_data_of_prognostic_variables\u0000\u0000\u0000\u0000\u0000\u0000\u0000\u0000\u0000\u0000\u0000\u0000\u0000\u0000\u0000\u0000\u0000\u0000\u0000\u0000\n",
      "Note: \u0000\u0000\u0000\u0000\u0000\u0000\u0000\u0000\u0000\u0000\u0000\u0000\u0000\u0000\u0000\u0000\u0000\u0000\u0000\u0000\u0000\u0000\u0000\u0000\u0000\u0000\u0000\u0000\u0000\u0000\u0000\u0000\u0000\u0000\u0000\u0000\u0000\u0000\u0000\u0000\u0000\u0000\u0000\u0000\u0000\u0000\u0000\u0000\u0000\u0000\u0000\u0000\u0000\u0000\u0000\u0000\u0000\u0000\u0000\u0000\u0000\u0000\u0000\u0000\u0000\u0000\u0000\u0000\u0000\u0000\u0000\u0000\u0000\u0000\u0000\u0000\u0000\u0000\u0000\u0000\u0000\u0000\u0000\u0000\u0000\u0000\u0000\u0000\u0000\u0000\u0000\u0000\u0000\u0000\u0000\u0000\u0000\u0000\u0000\u0000\u0000\u0000\u0000\u0000\u0000\u0000\u0000\u0000\u0000\u0000\u0000\u0000\u0000\u0000\u0000\u0000\u0000\u0000\u0000\u0000\u0000\u0000\u0000\u0000\u0000\u0000\u0000\u0000\u0000\u0000\u0000\u0000\u0000\u0000\u0000\u0000\u0000\u0000\u0000\u0000\u0000\u0000\u0000\u0000\u0000\u0000\u0000\u0000\u0000\u0000\u0000\u0000\u0000\u0000\u0000\u0000\u0000\u0000\u0000\u0000\u0000\u0000\u0000\u0000\u0000\u0000\u0000\u0000\u0000\u0000\u0000\u0000\u0000\u0000\u0000\u0000\u0000\u0000\u0000\u0000\u0000\u0000\u0000\u0000\u0000\u0000\u0000\u0000\u0000\u0000\u0000\u0000\u0000\u0000\u0000\u0000\u0000\u0000\u0000\u0000\u0000\u0000\u0000\u0000\u0000\u0000\u0000\u0000\u0000\u0000\u0000\u0000\u0000\u0000\u0000\u0000\u0000\u0000\u0000\u0000\u0000\u0000\u0000\u0000\u0000\u0000\u0000\u0000\u0000\u0000\u0000\u0000\u0000\u0000\u0000\u0000\u0000\u0000\u0000\u0000\u0000\u0000\u0000\u0000\u0000\u0000\u0000\u0000\u0000\u0000\u0000\u0000\u0000\u0000\u0000\u0000\n",
      "File Mode: 0\n",
      "Endian Type: 2\n",
      "Grid Topology: 0\n",
      "Grid Level: 5\n",
      "Resolution Level: 1\n",
      "Number of Regions: 5\n",
      "Number of Data Entries: 7\n",
      "\n",
      "📊 Extracted Variables and Shapes:\n",
      "pre: (324, 42, 5)\n",
      "tem: (324, 42, 5)\n",
      "vx: (324, 42, 5)\n",
      "vy: (324, 42, 5)\n",
      "vz: (324, 42, 5)\n",
      "w: (324, 42, 5)\n",
      "qv: (324, 42, 5)\n",
      "\n",
      "🔍 Inspecting 'pre' variable:\n",
      "Shape: (324, 42, 5)\n",
      "Sample Data (First Layer, First 5 Points):\n",
      "[100000. 100000. 100000. 100000. 100000.]\n"
     ]
    }
   ],
   "source": [
    "import json\n",
    "import numpy as np\n",
    "\n",
    "# File path (update if needed)\n",
    "json_file = \"restart_all_GL05RL01z40.pe000000_full.json\"\n",
    "\n",
    "# Load JSON data\n",
    "with open(json_file, \"r\") as f:\n",
    "    data = json.load(f)\n",
    "\n",
    "# Print general metadata\n",
    "print(\"📌 General Metadata:\")\n",
    "print(f\"Header: {data['Header']}\")\n",
    "print(f\"Note: {data['Note']}\")\n",
    "print(f\"File Mode: {data['File Mode']}\")\n",
    "print(f\"Endian Type: {data['Endian Type']}\")\n",
    "print(f\"Grid Topology: {data['Grid Topology']}\")\n",
    "print(f\"Grid Level: {data['Grid Level']}\")\n",
    "print(f\"Resolution Level: {data['Resolution Level']}\")\n",
    "print(f\"Number of Regions: {data['Number of Regions']}\")\n",
    "print(f\"Number of Data Entries: {data['Number of Data Entries']}\\n\")\n",
    "\n",
    "# Extract and print the shape of all variables\n",
    "print(\"📊 Extracted Variables and Shapes:\")\n",
    "for varname, var_data in data[\"Variables\"].items():\n",
    "    variable_array = np.array(var_data[\"Data\"])\n",
    "    print(f\"{varname}: {variable_array.shape}\")\n",
    "\n",
    "# Example: Access a specific variable (e.g., \"pre\" for pressure)\n",
    "selected_variable = \"pre\"  # Change this to inspect other variables\n",
    "if selected_variable in data[\"Variables\"]:\n",
    "    variable_array = np.array(data[\"Variables\"][selected_variable][\"Data\"])\n",
    "    print(f\"\\n🔍 Inspecting '{selected_variable}' variable:\")\n",
    "    print(f\"Shape: {variable_array.shape}\")\n",
    "    print(f\"Sample Data (First Layer, First 5 Points):\\n{variable_array[:5, 0, 0]}\")\n",
    "else:\n",
    "    print(f\"\\n⚠️ Variable '{selected_variable}' not found in JSON file.\")\n"
   ]
  },
  {
   "cell_type": "code",
   "execution_count": null,
   "id": "9fcf504b-45f6-4fc1-a6db-21407a9f44e0",
   "metadata": {},
   "outputs": [],
   "source": []
  }
 ],
 "metadata": {
  "kernelspec": {
   "display_name": "Python (jax_mpi)",
   "language": "python",
   "name": "jax_mpi"
  },
  "language_info": {
   "codemirror_mode": {
    "name": "ipython",
    "version": 3
   },
   "file_extension": ".py",
   "mimetype": "text/x-python",
   "name": "python",
   "nbconvert_exporter": "python",
   "pygments_lexer": "ipython3",
   "version": "3.11.11"
  }
 },
 "nbformat": 4,
 "nbformat_minor": 5
}
