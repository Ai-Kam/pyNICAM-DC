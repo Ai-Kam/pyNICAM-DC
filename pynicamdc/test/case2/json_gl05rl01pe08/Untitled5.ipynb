{
 "cells": [
  {
   "cell_type": "code",
   "execution_count": null,
   "id": "98002850-40cd-4e40-aa7f-94346ab25e2a",
   "metadata": {},
   "outputs": [],
   "source": [
    "# Print available dataset names\n",
    "print(\"Datasets in JSON file:\", list(data_arrays.keys()))\n",
    "\n",
    "# Example: Access a specific dataset (e.g., \"grd_xt_jy\")\n",
    "dataset_name = \"grd_xt_jy\"  # Change as needed\n",
    "if dataset_name in data_arrays:\n",
    "    dataset_values = data_arrays[dataset_name]  # Retrieve the dataset\n",
    "\n",
    "    # Convert to NumPy array with rows\n",
    "    data_array = np.array(dataset_values)  # Ensures each entry is a row\n",
    "\n",
    "    # Print shape to confirm\n",
    "    print(f\"Shape of NumPy array: {data_array.shape}\")\n",
    "\n",
    "    # Display first few rows\n",
    "    print(\"First 5 rows:\")\n",
    "    print(data_array[:5])\n",
    "\n",
    "else:\n",
    "    print(f\"Dataset {dataset_name} not found.\")"
   ]
  }
 ],
 "metadata": {
  "kernelspec": {
   "display_name": "Python (jax_mpi)",
   "language": "python",
   "name": "jax_mpi"
  },
  "language_info": {
   "codemirror_mode": {
    "name": "ipython",
    "version": 3
   },
   "file_extension": ".py",
   "mimetype": "text/x-python",
   "name": "python",
   "nbconvert_exporter": "python",
   "pygments_lexer": "ipython3",
   "version": "3.11.11"
  }
 },
 "nbformat": 4,
 "nbformat_minor": 5
}
