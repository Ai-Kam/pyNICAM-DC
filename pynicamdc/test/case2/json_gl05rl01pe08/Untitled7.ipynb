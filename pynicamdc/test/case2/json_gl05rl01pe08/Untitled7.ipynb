{
 "cells": [
  {
   "cell_type": "code",
   "execution_count": 2,
   "id": "9b141288-fae1-4503-9c18-13563375e747",
   "metadata": {},
   "outputs": [
    {
     "name": "stdout",
     "output_type": "stream",
     "text": [
      "grd_x_x: shape (324, 5)\n",
      "grd_x_y: shape (324, 5)\n",
      "grd_x_z: shape (324, 5)\n",
      "grd_xt_ix: shape (324, 5)\n",
      "grd_xt_jx: shape (324, 5)\n",
      "grd_xt_iy: shape (324, 5)\n",
      "grd_xt_jy: shape (324, 5)\n",
      "grd_xt_iz: shape (324, 5)\n",
      "grd_xt_jz: shape (324, 5)\n"
     ]
    }
   ],
   "source": [
    "import json\n",
    "import numpy as np\n",
    "\n",
    "# File path (update as needed)\n",
    "json_file_path = \"boundary_GL05RL01.pe00000002.json\"  # Update with your filename\n",
    "\n",
    "# Load JSON data\n",
    "with open(json_file_path, \"r\") as json_file:\n",
    "    data_arrays = json.load(json_file)\n",
    "\n",
    "# Check the shape of each dataset\n",
    "for key, value in data_arrays.items():\n",
    "    array = np.array(value)\n",
    "    print(f\"{key}: shape {array.shape}\")"
   ]
  },
  {
   "cell_type": "code",
   "execution_count": null,
   "id": "96de871e-f56e-48ef-b200-b8a55d2d0147",
   "metadata": {},
   "outputs": [],
   "source": []
  }
 ],
 "metadata": {
  "kernelspec": {
   "display_name": "Python (jax_mpi)",
   "language": "python",
   "name": "jax_mpi"
  },
  "language_info": {
   "codemirror_mode": {
    "name": "ipython",
    "version": 3
   },
   "file_extension": ".py",
   "mimetype": "text/x-python",
   "name": "python",
   "nbconvert_exporter": "python",
   "pygments_lexer": "ipython3",
   "version": "3.11.11"
  }
 },
 "nbformat": 4,
 "nbformat_minor": 5
}
