{
 "cells": [
  {
   "cell_type": "code",
   "execution_count": 23,
   "id": "b79e4a14-de11-46af-9cf9-23d67b0329ce",
   "metadata": {},
   "outputs": [
    {
     "name": "stdout",
     "output_type": "stream",
     "text": [
      "Original dataset saved to boundary_GL05RL01.pe00000002.json\n"
     ]
    }
   ],
   "source": [
    "import struct\n",
    "import json\n",
    "import numpy as np\n",
    "\n",
    "# Load the original dataset from the binary file\n",
    "file_path0 = \"gl05rl01pe08_org/\"\n",
    "file_path1 = \"boundary_GL05RL01.pe0000\"  # Update with actual path\n",
    "file_path2 = \"02\"\n",
    "file_path = file_path0 + file_path1 + file_path2\n",
    "\n",
    "# Mapping from datatype code to NumPy dtype\n",
    "dtype_map = {\n",
    "    0: \"f4\",  # real4 -> float32\n",
    "    1: \"f8\",  # real8 -> float64\n",
    "    2: \"i4\",  # int4 -> int32\n",
    "    3: \"i8\"   # int8 -> int64\n",
    "}\n",
    "\n",
    "# Initialize dictionary to store data\n",
    "data_arrays = {}\n",
    "\n",
    "with open(file_path, \"rb\") as f:\n",
    "    f.read(64)  # Skip header (64 bytes)\n",
    "    f.read(256)  # Skip note (256 bytes)\n",
    "\n",
    "    # Read and discard 6 integers before rgnid\n",
    "    _, _, _, _, _, num_of_rgn = struct.unpack(\">6I\", f.read(4 * 6))\n",
    "\n",
    "    # Skip rgnid array (num_of_rgn * 4 bytes)\n",
    "    f.read(4 * num_of_rgn)\n",
    "    \n",
    "    # Read num_of_data\n",
    "    num_of_data = struct.unpack(\">I\", f.read(4))[0]\n",
    "\n",
    "    # Process 9 datasets\n",
    "    for _ in range(9):\n",
    "#        varname = f.read(16).decode(errors=\"ignore\").strip()\n",
    "        varname = f.read(16).decode(errors=\"ignore\").strip().replace(\"\\x00\", \"\")\n",
    "        f.read(64 + 16 + 16 + 256)  # Skip metadata fields\n",
    "\n",
    "        # Read data size and type\n",
    "        datasize, datatype, _, _ = struct.unpack(\">Q3I\", f.read(8 + 4 * 3))\n",
    "        f.read(8 * 2)  # Skip time_start, time_end\n",
    "\n",
    "        # Validate datatype\n",
    "        data_format = dtype_map.get(datatype, None)\n",
    "        if not data_format:\n",
    "            f.seek(datasize, 1)  # Skip if unknown\n",
    "            continue\n",
    "\n",
    "        # Compute element count and read data\n",
    "        element_size = np.dtype(data_format).itemsize\n",
    "        num_elements = datasize // element_size\n",
    "        raw_data = np.frombuffer(f.read(datasize), dtype=np.dtype(\">\" + data_format))\n",
    "\n",
    "        # Reshape into (324, 5) if expected, else keep raw\n",
    "        reshaped_data = raw_data.reshape((324, 5)) if num_elements == 1620 else raw_data\n",
    "\n",
    "        # Store dataset in original order\n",
    "        data_arrays[varname] = reshaped_data.tolist()\n",
    "\n",
    "# Save the dataset as a JSON file (maintaining order)\n",
    "output_file_path = file_path1 + \"00\" + file_path2 + \".json\" #\"boundary_GL05RL01.pe000002.json\"\n",
    "with open(output_file_path, \"w\") as json_file:\n",
    "    json.dump(data_arrays, json_file, indent=4)\n",
    "\n",
    "print(f\"Original dataset saved to {output_file_path}\")\n"
   ]
  },
  {
   "cell_type": "code",
   "execution_count": null,
   "id": "4f17d396-1c1f-41b4-8774-e0b77419b9ef",
   "metadata": {},
   "outputs": [],
   "source": []
  }
 ],
 "metadata": {
  "kernelspec": {
   "display_name": "Python (jax_mpi)",
   "language": "python",
   "name": "jax_mpi"
  },
  "language_info": {
   "codemirror_mode": {
    "name": "ipython",
    "version": 3
   },
   "file_extension": ".py",
   "mimetype": "text/x-python",
   "name": "python",
   "nbconvert_exporter": "python",
   "pygments_lexer": "ipython3",
   "version": "3.11.11"
  }
 },
 "nbformat": 4,
 "nbformat_minor": 5
}
