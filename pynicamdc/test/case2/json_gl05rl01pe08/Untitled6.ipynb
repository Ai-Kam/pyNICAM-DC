{
 "cells": [
  {
   "cell_type": "code",
   "execution_count": 15,
   "id": "40b86438-f55c-4e2d-aa30-f7c1ffb16bc6",
   "metadata": {},
   "outputs": [
    {
     "name": "stdout",
     "output_type": "stream",
     "text": [
      "Datasets stored in NumPy format: ['grd_x_x', 'grd_x_y', 'grd_x_z', 'grd_xt_ix', 'grd_xt_jx', 'grd_xt_iy', 'grd_xt_jy', 'grd_xt_iz', 'grd_xt_jz']\n",
      "\n",
      "Shape of grd_xt_jx: (324, 5)\n",
      "First 5 rows:\n",
      "[-5.48933918e-02 -6.04119415e-03 -1.06355358e-01 -5.69997654e-02\n",
      " -6.60124378e-03 -9.99990000e+30 -5.92530714e-02 -8.16495757e-03\n",
      "  4.14647302e-02 -5.99978335e-02 -1.05261985e-02  4.06497203e-02\n",
      "  8.91070939e-02 -1.31747562e-02  3.85490500e-02  8.91560742e-02\n",
      " -1.80166274e-02  3.54918333e-02  8.73915245e-02  1.37178328e-01\n",
      " -9.99990000e+30 -9.99990000e+30 -9.99990000e+30 -9.99990000e+30]\n"
     ]
    }
   ],
   "source": [
    "import json\n",
    "import numpy as np\n",
    "\n",
    "# File path (update as needed)\n",
    "json_file_path = \"boundary_GL05RL01.pe00000002.json\"  # Update to your JSON filename\n",
    "\n",
    "# Load JSON data\n",
    "with open(json_file_path, \"r\") as json_file:\n",
    "    data_arrays = json.load(json_file)\n",
    "\n",
    "# Convert each dataset into a NumPy array\n",
    "numpy_data = {key: np.array(value) for key, value in data_arrays.items()}\n",
    "\n",
    "# Print available datasets\n",
    "print(\"Datasets stored in NumPy format:\", list(numpy_data.keys()))\n",
    "\n",
    "# Example: Access a specific dataset (e.g., \"grd_xt_jx\")\n",
    "dataset_name = \"grd_xt_jx\"  # Change to any dataset name you need\n",
    "if dataset_name in numpy_data:\n",
    "    dataset_values = numpy_data[dataset_name]\n",
    "    print(f\"\\nShape of {dataset_name}: {dataset_values.shape}\")\n",
    "    print(f\"First 5 rows:\\n{dataset_values[300:,2]}\")\n",
    "else:\n",
    "    print(f\"\\nDataset {dataset_name} not found.\")\n"
   ]
  },
  {
   "cell_type": "code",
   "execution_count": null,
   "id": "75dd3169-039b-404b-aadc-04c3ff46f71d",
   "metadata": {},
   "outputs": [],
   "source": []
  }
 ],
 "metadata": {
  "kernelspec": {
   "display_name": "Python (jax_mpi)",
   "language": "python",
   "name": "jax_mpi"
  },
  "language_info": {
   "codemirror_mode": {
    "name": "ipython",
    "version": 3
   },
   "file_extension": ".py",
   "mimetype": "text/x-python",
   "name": "python",
   "nbconvert_exporter": "python",
   "pygments_lexer": "ipython3",
   "version": "3.11.11"
  }
 },
 "nbformat": 4,
 "nbformat_minor": 5
}
