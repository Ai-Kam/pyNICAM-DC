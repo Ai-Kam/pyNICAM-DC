{
 "cells": [
  {
   "cell_type": "code",
   "execution_count": 18,
   "id": "9adb4bd3-90b7-44a4-9a0f-b297f36d09fa",
   "metadata": {},
   "outputs": [
    {
     "name": "stdout",
     "output_type": "stream",
     "text": [
      "Datasets in JSON file: ['grd_x_x', 'grd_x_y', 'grd_x_z', 'grd_xt_ix', 'grd_xt_jx', 'grd_xt_iy', 'grd_xt_jy', 'grd_xt_iz', 'grd_xt_jz']\n",
      "Shape of NumPy array: (5, 324)\n",
      "[-4.09818441e-02 -2.97500099e-02 -9.99990000e+30 -2.31350131e-01\n",
      " -2.22239854e-01]\n"
     ]
    }
   ],
   "source": [
    "import json\n",
    "import numpy as np\n",
    "\n",
    "# File path (update as needed)\n",
    "json_file_path = \"bboundary_GL05RL01.pe00000006.json\"  # Change to your JSON file name\n",
    "\n",
    "# Load JSON data\n",
    "with open(json_file_path, \"r\") as json_file:\n",
    "    data_arrays = json.load(json_file)\n",
    "\n",
    "# Print available dataset names\n",
    "print(\"Datasets in JSON file:\", list(data_arrays.keys()))\n",
    "\n",
    "# Example: Access a specific dataset (e.g., \"grd_xt_jy\")\n",
    "dataset_name = \"grd_xt_jx\"  # Change as needed\n",
    "# if dataset_name in data_arrays:\n",
    "#     dataset_values = data_arrays[dataset_name]  # Retrieve the dataset\n",
    "\n",
    "#     # Convert to NumPy array with rows\n",
    "#     data_array = np.array(dataset_values)  # Ensures each entry is a row\n",
    "\n",
    "\n",
    "if dataset_name in data_arrays:\n",
    "    data_array = np.array(data_arrays[dataset_name])  # Convert to NumPy array\n",
    "    print(f\"Shape of NumPy array: {data_array.shape}\")\n",
    "\n",
    "    \n",
    "    # Print shape to confirm\n",
    "    #print(f\"Shape of NumPy array: {data_array.shape}\")\n",
    "\n",
    "    # Display first few rows\n",
    "    #print(\"First 5 rows:\")\n",
    "    print(data_array[3,33:38])\n",
    "\n",
    "else:\n",
    "    print(f\"Dataset {dataset_name} not found.\")\n"
   ]
  },
  {
   "cell_type": "code",
   "execution_count": null,
   "id": "9697b5af-f04f-4350-9b08-ddc95e9ff4a9",
   "metadata": {},
   "outputs": [],
   "source": []
  }
 ],
 "metadata": {
  "kernelspec": {
   "display_name": "Python (jax_mpi)",
   "language": "python",
   "name": "jax_mpi"
  },
  "language_info": {
   "codemirror_mode": {
    "name": "ipython",
    "version": 3
   },
   "file_extension": ".py",
   "mimetype": "text/x-python",
   "name": "python",
   "nbconvert_exporter": "python",
   "pygments_lexer": "ipython3",
   "version": "3.11.11"
  }
 },
 "nbformat": 4,
 "nbformat_minor": 5
}
