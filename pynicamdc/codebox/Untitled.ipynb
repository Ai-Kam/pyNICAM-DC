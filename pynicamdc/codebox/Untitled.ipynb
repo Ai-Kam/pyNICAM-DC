{
 "cells": [
  {
   "cell_type": "code",
   "execution_count": 18,
   "id": "9d8c6361-2310-475b-9ed7-1c4ca9b5bb1f",
   "metadata": {
    "tags": []
   },
   "outputs": [],
   "source": [
    "import numpy as np\n",
    "import toml \n",
    "from mod_io_param import IOParam as IOP\n",
    "from mod_adm import ADM\n",
    "import mod_stdio"
   ]
  },
  {
   "cell_type": "code",
   "execution_count": 21,
   "id": "95be9b00-c01a-41d6-a805-0d8714b1f171",
   "metadata": {
    "tags": []
   },
   "outputs": [
    {
     "name": "stdout",
     "output_type": "stream",
     "text": [
      "2\n"
     ]
    }
   ],
   "source": [
    "print(IOP.I_NE)"
   ]
  },
  {
   "cell_type": "code",
   "execution_count": null,
   "id": "773a19f4-482f-458a-89ed-6d83c2b2dc78",
   "metadata": {
    "tags": []
   },
   "outputs": [],
   "source": []
  },
  {
   "cell_type": "code",
   "execution_count": null,
   "id": "229c1589-644f-454a-931b-8b2b1c65ebe2",
   "metadata": {},
   "outputs": [],
   "source": []
  }
 ],
 "metadata": {
  "kernelspec": {
   "display_name": "Python 3 (ipykernel)",
   "language": "python",
   "name": "python3"
  },
  "language_info": {
   "codemirror_mode": {
    "name": "ipython",
    "version": 3
   },
   "file_extension": ".py",
   "mimetype": "text/x-python",
   "name": "python",
   "nbconvert_exporter": "python",
   "pygments_lexer": "ipython3",
   "version": "3.11.4"
  }
 },
 "nbformat": 4,
 "nbformat_minor": 5
}
